{
  "nbformat": 4,
  "nbformat_minor": 0,
  "metadata": {
    "colab": {
      "provenance": []
    },
    "kernelspec": {
      "name": "python3",
      "display_name": "Python 3"
    },
    "language_info": {
      "name": "python"
    }
  },
  "cells": [
    {
      "cell_type": "code",
      "source": [],
      "metadata": {
        "id": "3o84UtVaBsbE"
      },
      "execution_count": null,
      "outputs": []
    },
    {
      "cell_type": "markdown",
      "source": [
        "# Zadanie 1\n",
        "**Które z następujących zadań wymagają w Twojej opinii inteligencji od człowieka:**\n",
        "\n",
        "\n",
        "* Wypełnianie deklaracji PIT - Wymaga uwagi i znajomości przepisów, ale można to zautomatyzować w dużej mierze.\n",
        "\n",
        "* Streszczanie tekstu - Wymaga zrozumienia kontekstu i umiejętności analizy, co\n",
        "wymaga inteligencji.\n",
        "* Tłumaczenie tekstu - Wymaga znajomości języków i subtelności w przekładzie, co jest zadaniem wymagającym inteligencji.\n",
        "* Klasyfikacja tekstu do kategorii tematycznych - Wymaga zrozumienia i analizy, ale można to zautomatyzować z użyciem algorytmów.\n",
        "* Odpowiadanie na proste pytania zadawane w języku naturalnym - Wymaga rozumienia kontekstu, co także jest zadaniem wymagającym inteligencji.\n",
        "* Układanie rozkładu jazdy transportu miejskiego - Wymaga analizy i planowania, co jest skomplikowane i wymaga inteligencji.\n",
        "* Programowanie (pisanie programów komputerowych) - To bardzo złożone zadanie, które wymaga logicznego myślenia i kreatywności.\n",
        "* „Programowanie” kanałów telewizyjnych - Wymaga zrozumienia preferencji widzów i umiejętności planowania.\n",
        "* Testowanie oprogramowania - Wymaga analizy i krytycznego myślenia, co jest zadaniem inteligentnym.\n",
        "* Komponowanie muzyki - To twórcze zadanie, które wymaga zarówno inteligencji emocjonalnej, jak i analitycznej.\n",
        "* Rozwiązywanie układów równań - Wymaga umiejętności matematycznych i logicznego myślenia.\n",
        "* Symboliczne obliczanie pochodnych funkcji - Wymaga znajomości matematyki, ale można to zautomatyzować.\n",
        "* Symboliczne całkowanie funkcji - Podobnie jak pochodne, wymaga wiedzy matematycznej, ale również można zautomatyzować.\n",
        "* Kierowanie samochodem - Wymaga złożonego przetwarzania informacji i podejmowania decyzji, co jest skomplikowanym zadaniem.\n",
        "\n",
        "#Zadanie 2\n",
        "\n",
        "Które z następujących problemów można uznać za mieszczące się w zakresie sztucznej inteligencji\n",
        "\n",
        "\n",
        "Wszystkie wymienione poniżej problemy mieszczą się w zakresie SI, z wyjątkiem tych które są ściśle związane z zaawanowaną matematyką\n",
        ".\n",
        "\n",
        "• streszczanie tekstu- Tak, to przykład przetwarzania języka naturalnego (NLP).\n",
        "\n",
        "• tłumaczenie tekstu- Tak, to również przykład NLP i uczenia maszynowego.\n",
        "\n",
        "• klasyfikacja tekstu do kategorii tematycznych- Tak, to używa algorytmów uczenia maszynowego do analizy i klasyfikacji.\n",
        "\n",
        "• odpowiadanie na proste pytania zadawane w języku naturalnym- tak, to część NLP i systemów dialogowych.\n",
        "\n",
        "• rozwiązywanie układów równań- Nie, to bardziej matematyczne zadanie niż związane z AI, aczkolwiek można jej użyć w celu douczenia się lub doinformowania\n",
        "\n",
        "• układanie rozkładu jazdy-  Tak, wymaga analizy i optymalizacji, co może być zrealizowane przez AI.\n",
        "\n",
        "• rozwiązywanie układów równań liniowych- Nie, to również zadanie matematyczne, aczkolwiek można jej użyć w celu douczenia się lub doinformowania\n",
        "\n",
        "\n",
        "• symboliczne obliczanie pochodnych- Nie, to klasyczne zadanie matematyczne, aczkolwiek można jej użyć w celu douczenia się lub doinformowania\n",
        "\n",
        "\n",
        "• symboliczne całkowanie- Nie, to również klasyczne zadanie matematyczne, aczkolwiek można jej użyć w celu douczenia się lub doinformowania\n",
        "\n",
        "\n",
        "• kierowanie samochodem- Tak, to przykład zastosowania SI w autonomicznych pojazdach.\n",
        "\n",
        "\n",
        "\n",
        "#Zadanie 3\n",
        "\n",
        "Które z poniższych rodzajów komunikacyjnego zachowania człowieka mogą być\n",
        "obecnie skutecznie imitowane przez sztuczne systemy (odpowiednio oprogramowane\n",
        "maszyny):\n",
        "\n",
        "• rozmowa towarzyska, tak rozmowa może być imitowana, ale na ten moment sztuczne systemy nie są w stanie podołać zadaniu prowadzenia rozmowy,w szczególności nieoficjalnej, używanej na co dzień w relacjach koleżeńskich.\n",
        "\n",
        "• dyskusja polityczna, w pewnym sensie tak, może odpowiadać na pytania i udzielać odpowiedzi na podstawie uzysjanych danych, ale brak mu jest \"duszy\" bez której maszynie jest trudno zrozumieć wszystkie aspkety i niuanse emocjonalne, również brak jej możliwości wyrażania własnej opinii.\n",
        "\n",
        "• dyskusja naukowa, podobnie jak przykład wyżej , maszyna może dostarczać informacji i analizować dane, ale nie ma zdolności do oryginalnego myślenia czy twórczego rozwiązywania problemów, nie udzieli informacji nowej, odkrywczej.\n",
        "\n",
        "• odpowiadanie na pytania klientów w telefonicznej infolinii, tak Chatboty i systemy automatycznego odpowiadania mogą skutecznie obsługiwać standardowe pytania i problemy, czym zajmują się już teraz.\n",
        "\n",
        "• odpowiadanie na pytania klientów w internetowej infolinii, tak, podobnie jak w przypadku infolinii telefonicznych, chatboty i asystenci wirtualni mogą skutecznie odpowiadać na pytania klientów online, co z resztą już robią."
      ],
      "metadata": {
        "id": "DDIpKs5lHJdT"
      }
    }
  ]
}